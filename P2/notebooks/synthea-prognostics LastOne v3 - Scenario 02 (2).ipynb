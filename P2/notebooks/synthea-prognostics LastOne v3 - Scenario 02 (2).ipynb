{
 "cells": [
  {
   "cell_type": "markdown",
   "metadata": {},
   "source": [
    "# Synthea Case Study\n",
    "*Lab 26 April 2022*\n",
    "\n",
    "* https://synthea.mitre.org/\n",
    "* https://github.com/synthetichealth/synthea"
   ]
  },
  {
   "cell_type": "code",
   "execution_count": 1,
   "metadata": {},
   "outputs": [],
   "source": [
    "%defaultDatasource jdbc:h2:mem:db"
   ]
  },
  {
   "cell_type": "code",
   "execution_count": 2,
   "metadata": {},
   "outputs": [],
   "source": [
    "DROP TABLE IF EXISTS Patients;\n",
    "\n",
    "CREATE TABLE Patients(\n",
    "    id VARCHAR(36),\n",
    "    birthdate DATE,\n",
    "    deathdate DATE,\n",
    "    ssn VARCHAR(11),\n",
    "    drivers VARCHAR(9),\n",
    "    passport VARCHAR(15),\n",
    "    prefix VARCHAR(4),\n",
    "    first VARCHAR(20),\n",
    "    last VARCHAR(20),\n",
    "    suffix VARCHAR(5),\n",
    "    maiden VARCHAR(20),\n",
    "    marital CHAR,\n",
    "    race VARCHAR(10),\n",
    "    ethnicity VARCHAR(15),\n",
    "    gender CHAR,\n",
    "    birthplace VARCHAR(100),\n",
    "    address VARCHAR(50),\n",
    "    city VARCHAR(30),\n",
    "    state VARCHAR(30),\n",
    "    county VARCHAR(50),\n",
    "    zip VARCHAR(10),\n",
    "    lat DECIMAL(18,15),\n",
    "    lon DECIMAL(18,15),\n",
    "    healthcare_expenses VARCHAR(20),\n",
    "    healthcare_coverage VARCHAR(20),\n",
    "    PRIMARY KEY(id)\n",
    ") AS SELECT id,birthdate,deathdate,ssn,drivers,passport,prefix,first,last,suffix,maiden,marital,race,ethnicity,gender,\n",
    "            birthplace,address,city,state,county,zip,lat,lon,healthcare_expenses,healthcare_coverage\n",
    "FROM CSVREAD('../../data/synthea/scenario02/csv/patients.csv');\n",
    "\n",
    "DROP TABLE IF EXISTS Encounters;\n",
    "\n",
    "CREATE TABLE Encounters(\n",
    "    id VARCHAR(36),\n",
    "    start DATETIME,\n",
    "    stop DATETIME,\n",
    "    patient VARCHAR(36),\n",
    "    organization VARCHAR(36),\n",
    "    provider VARCHAR(36),\n",
    "    payer  VARCHAR(36),\n",
    "    encounterclass VARCHAR(20),\n",
    "    code VARCHAR(15),\n",
    "    description VARCHAR(100),\n",
    "    base_encounter_cost DECIMAL(8,2),\n",
    "    total_claim_cost DECIMAL(10,2),\n",
    "    payer_coverage DECIMAL(8,2),\n",
    "    reasoncode VARCHAR(15),\n",
    "    reasondescription VARCHAR(100),\n",
    "    PRIMARY KEY(id)\n",
    ") AS SELECT id,start,stop,patient,organization,provider,payer,encounterclass,code,description,base_encounter_cost,\n",
    "            total_claim_cost,payer_coverage,reasoncode,reasondescription\n",
    "FROM CSVREAD('../../data/synthea/scenario02/csv/encounters.csv');\n",
    "\n",
    "DROP TABLE IF EXISTS Conditions;\n",
    "\n",
    "CREATE TABLE Conditions(\n",
    "    start DATETIME,\n",
    "    stop DATETIME,\n",
    "    patient VARCHAR(36),\n",
    "    encounter VARCHAR(36),\n",
    "    code VARCHAR(20),\n",
    "    description_condition VARCHAR(100),\n",
    ") AS SELECT start,stop,patient,encounter,code,description\n",
    "FROM CSVREAD('../../data/synthea/scenario02/csv/conditions.csv');\n",
    "\n",
    "DROP TABLE IF EXISTS Careplans;\n",
    "\n",
    "CREATE TABLE Careplans(\n",
    "    id VARCHAR(36),\n",
    "    start DATETIME,\n",
    "    stop DATETIME,\n",
    "    patient VARCHAR(36),\n",
    "    encounter VARCHAR(36),\n",
    "    code VARCHAR(20),\n",
    "    description VARCHAR(100),\n",
    "    reasoncode VARCHAR(15),\n",
    "    reasondescription VARCHAR(100),\n",
    ") AS SELECT id,start,stop,patient,encounter,code,description,reasoncode,reasondescription\n",
    "FROM CSVREAD('../../data/synthea/scenario02/csv/careplans.csv');\n"
   ]
  },
  {
   "cell_type": "markdown",
   "metadata": {},
   "source": [
    "## Listing Patients"
   ]
  },
  {
   "cell_type": "code",
   "execution_count": 3,
   "metadata": {},
   "outputs": [
    {
     "data": {
      "application/vnd.jupyter.widget-view+json": {
       "model_id": "ca866ed0-dc4c-405c-872d-35440cc2d82b",
       "version_major": 2,
       "version_minor": 0
      },
      "method": "display_data"
     },
     "metadata": {},
     "output_type": "display_data"
    }
   ],
   "source": [
    "SELECT id, to_char(birthdate,'dd-mm-yyyy') birth, to_char(deathdate,'dd-mm-yyyy') death,\n",
    "       deathdate-birthdate days_life\n",
    "FROM Patients\n",
    "LIMIT 5;"
   ]
  },
  {
   "cell_type": "markdown",
   "metadata": {},
   "source": [
    "## Number of Dead Patients"
   ]
  },
  {
   "cell_type": "code",
   "execution_count": 4,
   "metadata": {},
   "outputs": [
    {
     "data": {
      "text/plain": [
       "121"
      ]
     },
     "execution_count": 4,
     "metadata": {},
     "output_type": "execute_result"
    }
   ],
   "source": [
    "SELECT COUNT(*) FROM Patients WHERE deathdate IS NOT NULL;"
   ]
  },
  {
   "cell_type": "markdown",
   "metadata": {},
   "source": [
    "## Listing Encounters"
   ]
  },
  {
   "cell_type": "code",
   "execution_count": 5,
   "metadata": {},
   "outputs": [
    {
     "data": {
      "application/vnd.jupyter.widget-view+json": {
       "model_id": "bd21333c-8fd3-448a-935c-e1ccc4ba0f36",
       "version_major": 2,
       "version_minor": 0
      },
      "method": "display_data"
     },
     "metadata": {},
     "output_type": "display_data"
    }
   ],
   "source": [
    "SELECT id, to_char(start,'dd-mm-yyyy') start, encounterclass, description\n",
    "FROM Encounters\n",
    "LIMIT 5;"
   ]
  },
  {
   "cell_type": "markdown",
   "metadata": {},
   "source": [
    "# Encounters in the Emergency"
   ]
  },
  {
   "cell_type": "markdown",
   "metadata": {},
   "source": [
    "## Number of Patients that Visited the Emergency and Urgentcare\n",
    "\n"
   ]
  },
  {
   "cell_type": "code",
   "execution_count": 6,
   "metadata": {},
   "outputs": [
    {
     "data": {
      "text/plain": [
       "824"
      ]
     },
     "execution_count": 6,
     "metadata": {},
     "output_type": "execute_result"
    }
   ],
   "source": [
    "SELECT COUNT(DISTINCT patient) FROM Encounters\n",
    "       WHERE (encounterclass = 'emergency' OR encounterclass = 'urgentcare');"
   ]
  },
  {
   "cell_type": "markdown",
   "metadata": {},
   "source": [
    "## Number of Patients with Cerebrovascular Accident (Code 230690007)"
   ]
  },
  {
   "cell_type": "code",
   "execution_count": 7,
   "metadata": {},
   "outputs": [
    {
     "data": {
      "application/vnd.jupyter.widget-view+json": {
       "model_id": "07a1c47e-39d8-4608-929c-5bea62fafa84",
       "version_major": 2,
       "version_minor": 0
      },
      "method": "display_data"
     },
     "metadata": {},
     "output_type": "display_data"
    }
   ],
   "source": [
    "SELECT count(patient), patient, p.first, p.last FROM Encounters e, patients p\n",
    "       WHERE e.patient = p.id AND\n",
    "       --(encounterclass = 'emergency' OR encounterclass = 'urgentcare') AND\n",
    "       (code='230690007')\n",
    "      group by e.patient\n",
    "     -- LIMIT 5;"
   ]
  },
  {
   "cell_type": "markdown",
   "metadata": {},
   "source": [
    "## Last Encounter in the Emergency"
   ]
  },
  {
   "cell_type": "code",
   "execution_count": 8,
   "metadata": {},
   "outputs": [],
   "source": [
    "DROP VIEW IF EXISTS Emergency;\n",
    "\n",
    "CREATE VIEW Emergency AS\n",
    "SELECT patient, MAX(start) last_encounter\n",
    "       FROM Encounters --depois fazer um join com a tabela de pacientes\n",
    "       WHERE encounterclass = 'urgentcare' OR encounterclass = 'emergency'\n",
    "       GROUP BY patient;"
   ]
  },
  {
   "cell_type": "markdown",
   "metadata": {},
   "source": [
    "## Conditions in the Last Encounter"
   ]
  },
  {
   "cell_type": "code",
   "execution_count": null,
   "metadata": {},
   "outputs": [],
   "source": []
  },
  {
   "cell_type": "markdown",
   "metadata": {},
   "source": [
    "## Patients that had a Stroke in the Last Encounter"
   ]
  },
  {
   "cell_type": "code",
   "execution_count": 9,
   "metadata": {},
   "outputs": [
    {
     "data": {
      "text/plain": [
       "42"
      ]
     },
     "execution_count": 9,
     "metadata": {},
     "output_type": "execute_result"
    }
   ],
   "source": [
    "SELECT COUNT(distinct e.patient)--, e.patient, c.code, c.description_condition\n",
    "       FROM Emergency e, Conditions c, Patients p\n",
    "       WHERE e.patient = c.patient AND\n",
    "             c.patient = p.id AND\n",
    "           -- (c.description_condition='Stroke');\n",
    "             c.code='230690007'\n",
    "      -- group by e.patient"
   ]
  },
  {
   "cell_type": "markdown",
   "metadata": {},
   "source": [
    "# Patients with a Stroke that Died 30 days after the Last Encounter"
   ]
  },
  {
   "cell_type": "code",
   "execution_count": 10,
   "metadata": {},
   "outputs": [
    {
     "data": {
      "application/vnd.jupyter.widget-view+json": {
       "model_id": "fd12c67e-db01-4bd4-a115-3f248ccbf15a",
       "version_major": 2,
       "version_minor": 0
      },
      "method": "display_data"
     },
     "metadata": {},
     "output_type": "display_data"
    },
    {
     "data": {
      "application/vnd.jupyter.widget-view+json": {
       "model_id": "f1facb7c-2e6b-478c-975d-d4b70ad64244",
       "version_major": 2,
       "version_minor": 0
      },
      "method": "display_data"
     },
     "metadata": {},
     "output_type": "display_data"
    }
   ],
   "source": [
    "SELECT COUNT(*)\n",
    "       FROM Patients p, Emergency s, Conditions c\n",
    "       WHERE p.id=s.patient AND s.patient=c.patient AND\n",
    "             p.deathdate IS NOT NULL AND p.deathdate-s.last_encounter <= 30 AND\n",
    "             (c.description_condition='Stroke');\n",
    "\n",
    "SELECT DISTINCT p.first, p.last,\n",
    "                to_char(p.birthdate,'dd-mm-yyyy') birth, to_char(p.deathdate,'dd-mm-yyyy') death,\n",
    "                (p.deathdate-p.birthdate)/365 age,\n",
    "                to_char(s.last_encounter,'dd-mm-yyyy') last_encounter,\n",
    "                p.deathdate-s.last_encounter days\n",
    "       FROM Patients p, Emergency s, Conditions c\n",
    "       WHERE p.id=s.patient AND s.patient=c.patient AND\n",
    "             p.deathdate IS NOT NULL AND p.deathdate-s.last_encounter <= 30 AND\n",
    "             (c.description_condition='Stroke')\n",
    "            --LIMIT 5;"
   ]
  },
  {
   "cell_type": "markdown",
   "metadata": {},
   "source": [
    "# Patients with a Stroke that Died 1 year after the Last Encounter"
   ]
  },
  {
   "cell_type": "code",
   "execution_count": 11,
   "metadata": {
    "scrolled": true
   },
   "outputs": [
    {
     "data": {
      "application/vnd.jupyter.widget-view+json": {
       "model_id": "4556aca1-b9e1-4285-aca1-9c2299037729",
       "version_major": 2,
       "version_minor": 0
      },
      "method": "display_data"
     },
     "metadata": {},
     "output_type": "display_data"
    },
    {
     "data": {
      "application/vnd.jupyter.widget-view+json": {
       "model_id": "ee3c9a1d-2618-48dc-908b-b5ab86a0ac6d",
       "version_major": 2,
       "version_minor": 0
      },
      "method": "display_data"
     },
     "metadata": {},
     "output_type": "display_data"
    }
   ],
   "source": [
    "SELECT COUNT(*)\n",
    "       FROM Patients p, Emergency s, Conditions c\n",
    "       WHERE p.id=s.patient AND s.patient=c.patient AND\n",
    "             p.deathdate IS NOT NULL AND p.deathdate-s.last_encounter <= 365 AND\n",
    "             (c.description_condition='Stroke');\n",
    "\n",
    "SELECT DISTINCT p.first, p.last,\n",
    "                to_char(p.birthdate,'dd-mm-yyyy') birth, to_char(p.deathdate,'dd-mm-yyyy') death,\n",
    "                (p.deathdate-p.birthdate)/365 age,\n",
    "                to_char(s.last_encounter,'dd-mm-yyyy') last_encounter,\n",
    "                p.deathdate-s.last_encounter days\n",
    "       FROM Patients p, Emergency s, Conditions c\n",
    "       WHERE p.id=s.patient AND s.patient=c.patient AND\n",
    "             p.deathdate IS NOT NULL AND p.deathdate-s.last_encounter <= 365 AND\n",
    "             (c.description_condition='Stroke') order by first, last\n",
    "           --  LIMIT 5;"
   ]
  },
  {
   "cell_type": "markdown",
   "metadata": {},
   "source": [
    "## Cross information with the patient that has a Careplan"
   ]
  },
  {
   "cell_type": "code",
   "execution_count": 12,
   "metadata": {},
   "outputs": [
    {
     "data": {
      "text/plain": [
       "294"
      ]
     },
     "execution_count": 12,
     "metadata": {},
     "output_type": "execute_result"
    }
   ],
   "source": [
    "SELECT count(patient) FROM Careplans\n",
    "       WHERE (reasoncode = '59621000' --Hypertension\n",
    "              OR reasoncode = '736285004') --Hyperlipidemia\n",
    "       "
   ]
  },
  {
   "cell_type": "code",
   "execution_count": null,
   "metadata": {
    "scrolled": true
   },
   "outputs": [
    {
     "data": {
      "text/plain": [
       "40"
      ]
     },
     "execution_count": 13,
     "metadata": {},
     "output_type": "execute_result"
    }
   ],
   "source": [
    "SELECT COUNT(distinct(e.patient))\n",
    "       FROM Encounters e, Careplans cp, Conditions c\n",
    "       WHERE (e.patient = cp.patient) AND (cp.patient = c.patient)\n",
    "       AND (c.description_condition='Stroke') -- Quantos pacientes estao utilizando plano de saude para tratar Stroke"
   ]
  },
  {
   "cell_type": "markdown",
   "metadata": {},
   "source": [
    "## Cross information with the total amount of expenses in Healthcare and Race by patient"
   ]
  },
  {
   "cell_type": "code",
   "execution_count": null,
   "metadata": {},
   "outputs": [
    {
     "data": {
      "application/vnd.jupyter.widget-view+json": {
       "model_id": "fbaed595-41ca-4380-acb9-9517a681fb9b",
       "version_major": 2,
       "version_minor": 0
      },
      "method": "display_data"
     },
     "metadata": {},
     "output_type": "display_data"
    }
   ],
   "source": [
    "SELECT e.patient, p.HEALTHCARE_EXPENSES, p.deathdate, p.race\n",
    "       FROM Encounters e, Careplans cp, Conditions c, Patients p, Emergency s\n",
    "       WHERE (e.patient = cp.patient) AND (cp.patient = c.patient) AND (p.id = c.patient)\n",
    "       AND (c.description_condition='Stroke') AND p.id=s.patient\n",
    "       LIMIT 5;"
   ]
  },
  {
   "cell_type": "markdown",
   "metadata": {},
   "source": [
    "## HEADACHE HYPOTESIS\n"
   ]
  },
  {
   "cell_type": "code",
   "execution_count": null,
   "metadata": {},
   "outputs": [],
   "source": [
    "DROP VIEW IF EXISTS OnlyStrokeEmergency;\n",
    "\n",
    "CREATE VIEW OnlyStrokeEmergency AS \n",
    "SELECT distinct(e.patient), MAX(e.start) last_encounter\n",
    "       FROM Encounters e, Conditions c\n",
    "       WHERE e.patient = c.patient and\n",
    "            c.code='230690007'\n",
    "       GROUP BY e.patient;"
   ]
  },
  {
   "cell_type": "code",
   "execution_count": null,
   "metadata": {
    "scrolled": false
   },
   "outputs": [
    {
     "data": {
      "text/plain": [
       "42"
      ]
     },
     "execution_count": 16,
     "metadata": {},
     "output_type": "execute_result"
    }
   ],
   "source": [
    "SELECT COUNT(*) from OnlyStrokeEmergency"
   ]
  },
  {
   "cell_type": "code",
   "execution_count": null,
   "metadata": {},
   "outputs": [],
   "source": [
    "DROP TABLE IF EXISTS EmergencyML;\n",
    "\n",
    "CREATE TABLE EmergencyML (\n",
    "  patient VARCHAR(36),\n",
    "  first VARCHAR(20),\n",
    "  last VARCHAR(20),\n",
    "  last_encounter DATETIME,\n",
    "  deathdate DATETIME,\n",
    "    \n",
    "  race VARCHAR(10),\n",
    "  ETHNICITY VARCHAR(15),\n",
    "  GENDER CHAR,\n",
    "    \n",
    "  hadstroke SMALLINT DEFAULT 0,\n",
    "  death07days SMALLINT DEFAULT 0,\n",
    "  death30days SMALLINT DEFAULT 0,\n",
    "  death90days SMALLINT DEFAULT 0,\n",
    "  death365days SMALLINT DEFAULT 0,\n",
    "  PRIMARY KEY(patient)\n",
    ") AS\n",
    "SELECT s.patient,p.first, p.last, MAX(last_encounter), p.deathdate,p.RACE,p.ETHNICITY,p.GENDER,0,0,0,0,0\n",
    "       FROM Emergency s, Patients p, Conditions c\n",
    "       WHERE s.patient = c.patient and \n",
    "             c.patient = p.id /*and\n",
    "             c.description_condition='Stroke'*/\n",
    "       GROUP BY s.patient, first, last;\n",
    "       \n",
    "SELECT count(1) FROM EmergencyML order by first, last;\n",
    "\n"
   ]
  },
  {
   "cell_type": "code",
   "execution_count": null,
   "metadata": {},
   "outputs": [],
   "source": [
    "UPDATE EmergencyML e\n",
    "SET e.hadstroke = 1\n",
    "WHERE EXISTS\n",
    "(SELECT c.patient\n",
    " FROM Conditions c\n",
    " WHERE c.patient=e.patient AND c.description_condition='Stroke');"
   ]
  },
  {
   "cell_type": "code",
   "execution_count": null,
   "metadata": {},
   "outputs": [],
   "source": [
    "Select count(*) \n",
    "FROM EmergencyML e\n",
    "Where e.hadstroke = 1\n"
   ]
  },
  {
   "cell_type": "code",
   "execution_count": null,
   "metadata": {},
   "outputs": [],
   "source": [
    "SELECT *\n",
    "       FROM EmergencyML \n",
    "       WHERE hadstroke = 1 order by first, last"
   ]
  },
  {
   "cell_type": "code",
   "execution_count": null,
   "metadata": {},
   "outputs": [],
   "source": [
    "SELECT COUNT(*)\n",
    "       FROM EmergencyML\n",
    "       WHERE hadstroke = 1"
   ]
  },
  {
   "cell_type": "code",
   "execution_count": null,
   "metadata": {},
   "outputs": [],
   "source": [
    "UPDATE EmergencyML e\n",
    "SET e.death07days = 1\n",
    "WHERE EXISTS\n",
    "(SELECT c.patient\n",
    " FROM Patients p, Conditions c\n",
    " WHERE c.patient=e.patient AND \n",
    "       e.patient = p.id    AND\n",
    "       c.description_condition='Stroke' AND\n",
    "       p.deathdate IS NOT NULL AND\n",
    "       p.deathdate-e.last_encounter <= 7);"
   ]
  },
  {
   "cell_type": "code",
   "execution_count": null,
   "metadata": {},
   "outputs": [],
   "source": [
    "Select count(*) \n",
    "FROM EmergencyML e\n",
    "Where e.death07days = 1;"
   ]
  },
  {
   "cell_type": "code",
   "execution_count": null,
   "metadata": {},
   "outputs": [],
   "source": [
    "UPDATE EmergencyML e\n",
    "SET e.death30days = 1\n",
    "WHERE EXISTS\n",
    "(SELECT c.patient\n",
    " FROM Patients p, Conditions c\n",
    " WHERE c.patient=e.patient AND \n",
    "       e.patient = p.id    AND\n",
    "       c.description_condition='Stroke' AND\n",
    "       p.deathdate IS NOT NULL AND\n",
    "       p.deathdate-e.last_encounter <= 30);\n"
   ]
  },
  {
   "cell_type": "code",
   "execution_count": null,
   "metadata": {},
   "outputs": [],
   "source": [
    "Select * \n",
    "FROM EmergencyML e\n",
    "Where e.death30days = 1 order by first, last;"
   ]
  },
  {
   "cell_type": "code",
   "execution_count": null,
   "metadata": {},
   "outputs": [],
   "source": [
    "Select count(*) \n",
    "FROM EmergencyML e\n",
    "Where e.death30days = 1;"
   ]
  },
  {
   "cell_type": "code",
   "execution_count": null,
   "metadata": {},
   "outputs": [],
   "source": [
    "UPDATE EmergencyML e\n",
    "SET e.death90days = 1\n",
    "WHERE EXISTS\n",
    "(SELECT c.patient\n",
    " FROM Patients p, Conditions c\n",
    " WHERE c.patient=e.patient AND \n",
    "       e.patient = p.id    AND\n",
    "       c.description_condition='Stroke' AND\n",
    "       p.deathdate IS NOT NULL AND\n",
    "       p.deathdate-e.last_encounter between 31 AND 90 --AND\n",
    ");"
   ]
  },
  {
   "cell_type": "code",
   "execution_count": null,
   "metadata": {},
   "outputs": [],
   "source": [
    "Select * \n",
    "FROM EmergencyML e\n",
    "Where e.death90days = 1"
   ]
  },
  {
   "cell_type": "code",
   "execution_count": null,
   "metadata": {},
   "outputs": [],
   "source": [
    "Select count(*) \n",
    "FROM EmergencyML e\n",
    "Where e.death90days = 1"
   ]
  },
  {
   "cell_type": "code",
   "execution_count": null,
   "metadata": {},
   "outputs": [],
   "source": [
    "UPDATE EmergencyML e\n",
    "SET e.death365days = 1\n",
    "WHERE EXISTS\n",
    "(SELECT c.patient\n",
    " FROM Patients p, Conditions c\n",
    " WHERE c.patient=e.patient AND \n",
    "       e.patient = p.id    AND\n",
    "       c.description_condition='Stroke' AND\n",
    "       p.deathdate IS NOT NULL AND\n",
    "       p.deathdate-e.last_encounter between 91 AND 365 --AND\n",
    ");"
   ]
  },
  {
   "cell_type": "code",
   "execution_count": null,
   "metadata": {},
   "outputs": [],
   "source": [
    "Select * \n",
    "FROM EmergencyML e\n",
    "Where e.death365days = 1;"
   ]
  },
  {
   "cell_type": "code",
   "execution_count": null,
   "metadata": {},
   "outputs": [],
   "source": [
    "Select count(*) \n",
    "FROM EmergencyML e\n",
    "Where e.death365days = 1;"
   ]
  },
  {
   "cell_type": "code",
   "execution_count": null,
   "metadata": {},
   "outputs": [],
   "source": [
    "select * from EmergencyML\n",
    "limit 5;"
   ]
  },
  {
   "cell_type": "code",
   "execution_count": null,
   "metadata": {},
   "outputs": [],
   "source": [
    "CALL CSVWRITE('../../data/synthea/scenario02/csv-ml/emergency-ml.csv', 'SELECT * FROM EmergencyML');"
   ]
  },
  {
   "cell_type": "code",
   "execution_count": null,
   "metadata": {},
   "outputs": [],
   "source": [
    "/*UPDATE EmergencyML e\n",
    "SET e.hadstroke = 1\n",
    "WHERE EXISTS\n",
    "(SELECT c.patient\n",
    " FROM Patients p, Conditions c\n",
    " WHERE c.patient=e.patient AND \n",
    "       e.patient = p.id    AND\n",
    "       c.description_condition='Stroke' AND\n",
    "       p.deathdate IS NOT NULL AND\n",
    "       p.deathdate-e.last_encounter <= 30 AND\n",
    ");\n",
    "\n",
    "\n",
    "\n",
    "SELECT COUNT(*)\n",
    "       FROM Patients p, Conditions c--, Emergency s\n",
    "       WHERE p.id=s.patient AND s.patient=c.patient AND\n",
    "             p.deathdate IS NOT NULL AND p.deathdate-s.last_encounter <= 365 AND\n",
    "             (c.description_condition='Stroke');\n",
    "\n",
    "SELECT DISTINCT p.first, p.last,\n",
    "                to_char(p.birthdate,'dd-mm-yyyy') birth, to_char(p.deathdate,'dd-mm-yyyy') death,\n",
    "                (p.deathdate-p.birthdate)/365 age,\n",
    "                to_char(s.last_encounter,'dd-mm-yyyy') last_encounter,\n",
    "                p.deathdate-s.last_encounter days\n",
    "       FROM Patients p, Emergency s, Conditions c\n",
    "       WHERE p.id=s.patient AND s.patient=c.patient AND\n",
    "             p.deathdate IS NOT NULL AND p.deathdate-s.last_encounter <= 365 AND\n",
    "             (c.description_condition='Stroke')*/"
   ]
  },
  {
   "cell_type": "code",
   "execution_count": null,
   "metadata": {},
   "outputs": [],
   "source": [
    "/*SELECT COUNT(DISTINCT c.patient)\n",
    "       FROM  Conditions c, OnlyStrokeEmergency O\n",
    "       WHERE c.patient = o.patient AND\n",
    "             c.code = '73595000' */"
   ]
  },
  {
   "cell_type": "code",
   "execution_count": null,
   "metadata": {},
   "outputs": [],
   "source": [
    "/*Select * \n",
    "FROM EmergencyML e\n",
    "Where e.death90days = 1\n",
    "LIMIT 5;*/"
   ]
  },
  {
   "cell_type": "code",
   "execution_count": null,
   "metadata": {},
   "outputs": [],
   "source": [
    "/*Select * \n",
    "FROM EmergencyML e\n",
    "Where e.death365days = 1\n",
    "LIMIT 5;*/"
   ]
  },
  {
   "cell_type": "code",
   "execution_count": null,
   "metadata": {},
   "outputs": [],
   "source": [
    "/*SELECT COUNT(DISTINCT e.patient)\n",
    "       FROM Emergency e, Conditions c\n",
    "       WHERE e.patient = c.patient AND\n",
    "            (c.code ='230690007');*/"
   ]
  }
 ],
 "metadata": {
  "kernelspec": {
   "display_name": "SQL",
   "language": "SQL",
   "name": "sql"
  },
  "language_info": {
   "codemirror_mode": "sql",
   "file_extension": ".sql",
   "mimetype": "",
   "name": "SQL",
   "nbconverter_exporter": "",
   "version": ""
  },
  "toc": {
   "base_numbering": 1,
   "nav_menu": {},
   "number_sections": false,
   "sideBar": false,
   "skip_h1_title": false,
   "title_cell": "Table of Contents",
   "title_sidebar": "Contents",
   "toc_cell": false,
   "toc_position": {},
   "toc_section_display": false,
   "toc_window_display": false
  }
 },
 "nbformat": 4,
 "nbformat_minor": 2
}
